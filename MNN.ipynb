{
 "cells": [
  {
   "cell_type": "markdown",
   "id": "b49b5db9",
   "metadata": {},
   "source": [
    "## Import the Libraries"
   ]
  },
  {
   "cell_type": "code",
   "execution_count": 1,
   "id": "a89360db",
   "metadata": {},
   "outputs": [],
   "source": [
    "import numpy as np "
   ]
  },
  {
   "cell_type": "markdown",
   "id": "b322e103",
   "metadata": {},
   "source": [
    "## Generate a Random Dataset"
   ]
  },
  {
   "cell_type": "code",
   "execution_count": 4,
   "id": "2886130b",
   "metadata": {},
   "outputs": [
    {
     "name": "stdout",
     "output_type": "stream",
     "text": [
      "The dataset is :[[0 8 6 0 7]\n",
      " [7 0 1 1 0]\n",
      " [1 2 4 9 3]\n",
      " [9 3 7 7 9]\n",
      " [7 1 8 2 4]]\n",
      "The size of the dataset is :(5, 5)\n"
     ]
    }
   ],
   "source": [
    "df = np.random.randint(10,size=(5,5))\n",
    "\n",
    "print(f\"The dataset is :{df}\")\n",
    "print(f\"The size of the dataset is :{df.shape}\")"
   ]
  },
  {
   "cell_type": "markdown",
   "id": "99c876b2",
   "metadata": {},
   "source": [
    "***Split the Dataset , the input will have the size of 5x4 and the output 5x1***"
   ]
  },
  {
   "cell_type": "code",
   "execution_count": 23,
   "id": "7764b0bd",
   "metadata": {},
   "outputs": [
    {
     "name": "stdout",
     "output_type": "stream",
     "text": [
      "The Input dataset is :[[0 8 6 0]\n",
      " [7 0 1 1]\n",
      " [1 2 4 9]\n",
      " [9 3 7 7]\n",
      " [7 1 8 2]]\n",
      "The size of Input data is : (5, 4)\n",
      "------------------------------------------------------------------------\n",
      "The Output dataset is :[7 0 3 9 4]\n",
      "The size of Output data is : 5\n"
     ]
    }
   ],
   "source": [
    "Input_data = df[:,:-1]\n",
    "print(f\"The Input dataset is :{Input_data}\")\n",
    "print(f\"The size of Input data is : {Input_data.shape}\")\n",
    "\n",
    "print(\"------------------------------------------------------------------------\")\n",
    "\n",
    "Output_data = df[:,-1]\n",
    "print(f\"The Output dataset is :{Output_data}\")\n",
    "print(f\"The size of Output data is : {Output_data.shape}\")"
   ]
  },
  {
   "cell_type": "markdown",
   "id": "bdddd230",
   "metadata": {},
   "source": [
    "***Let assume that the NN will have 3 node in the hidden layers and 1 node in the output layers***"
   ]
  },
  {
   "cell_type": "markdown",
   "id": "dfefa061",
   "metadata": {},
   "source": [
    "## Create the NN architecture "
   ]
  },
  {
   "cell_type": "code",
   "execution_count": 61,
   "id": "10670742",
   "metadata": {},
   "outputs": [],
   "source": [
    "def Neural_network(Input_data,hidden_nodes,Output_data):\n",
    "    input_nodes = Input_data.shape[1]      # number of features in the dataset\n",
    "    output_nodes = Output_data.shape[0]    #number of output in the dataset\n",
    "    \n",
    "    #Generate random weights matrix  that goes from the input to the hidden layer of size(hidden_node,Input_nodes)\n",
    "    Weight_ih= np.round(np.random.uniform (-1,1,size=(input_nodes,hidden_nodes)),2)\n",
    "    \n",
    "    #Generate random weight matrix that goes from the hidden layer to the output layer of size(output_nodes,hidden_nodes)\n",
    "    Weight_ho= np.round(np.random.uniform(-1,1,size=(output_nodes,hidden_nodes)),2)\n",
    "    \n",
    "    #Generate hidden bias\n",
    "    bias_h = np.random.randint(2,size=(hidden_nodes,1))\n",
    "    \n",
    "    #Generate output bias\n",
    "    bias_o= np.random.randint(2)\n",
    "                               \n",
    "    return Weight_ih,Weight_ho,bias_h,bias_o\n",
    "                               "
   ]
  },
  {
   "cell_type": "code",
   "execution_count": 62,
   "id": "5685f5c4",
   "metadata": {},
   "outputs": [],
   "source": [
    "hidden_nodes = 3\n",
    "Output_data = Output_data.reshape(-1, 5)\n",
    "\n",
    "Weight_ih,Weight_ho,bias_h,bias_o = Neural_network(Input_data,hidden_nodes,Output_data)\n"
   ]
  },
  {
   "cell_type": "code",
   "execution_count": 63,
   "id": "faa89d36",
   "metadata": {},
   "outputs": [
    {
     "name": "stdout",
     "output_type": "stream",
     "text": [
      "The Weight_ih matrix :[[-0.22 -0.17 -0.42]\n",
      " [-0.29 -0.03 -0.93]\n",
      " [-0.08  0.56  0.5 ]\n",
      " [ 0.74 -0.99  0.76]]\n",
      "The size of Weight_ih is  : (4, 3)\n",
      "------------------------------------------------------------------------\n",
      "The Weight_ho matrix :[[0.51 0.41 0.55]]\n",
      "The size of Weight_ho is  : (1, 3)\n",
      "------------------------------------------------------------------------\n",
      "The bias_h matrix :[[0]\n",
      " [0]\n",
      " [1]]\n",
      "The size of bias_h is  : (3, 1)\n",
      "------------------------------------------------------------------------\n",
      "The bias_o matrix :0\n"
     ]
    }
   ],
   "source": [
    "\n",
    "print(f\"The Weight_ih matrix :{Weight_ih}\")\n",
    "print(f\"The size of Weight_ih is  : {Weight_ih.shape}\")\n",
    "\n",
    "print(\"------------------------------------------------------------------------\")\n",
    "\n",
    "print(f\"The Weight_ho matrix :{Weight_ho}\")\n",
    "print(f\"The size of Weight_ho is  : {Weight_ho.shape}\")\n",
    "\n",
    "\n",
    "print(\"------------------------------------------------------------------------\")\n",
    "print(f\"The bias_h matrix :{bias_h}\")\n",
    "print(f\"The size of bias_h is  : {bias_h.shape}\")\n",
    "\n",
    "print(\"------------------------------------------------------------------------\")\n",
    "\n",
    "print(f\"The bias_o matrix :{bias_o}\")\n",
    "\n"
   ]
  },
  {
   "cell_type": "markdown",
   "id": "bb2e3ace",
   "metadata": {},
   "source": [
    "## Train the Data\n",
    "\n",
    "- **Feed-Forward Computation**\n",
    "- **Back Propagation to Output layer**\n",
    "- **Backpropagation to the hidden layer**\n",
    "- **weight updates**"
   ]
  },
  {
   "cell_type": "code",
   "execution_count": 64,
   "id": "b36f6398",
   "metadata": {},
   "outputs": [],
   "source": [
    "## sigmoid Activation Function\n",
    "\n",
    "def sigmoid(Z): \n",
    "    return 1/(1 + np.exp(-Z))"
   ]
  },
  {
   "cell_type": "code",
   "execution_count": 82,
   "id": "c0d3d7b8",
   "metadata": {},
   "outputs": [],
   "source": [
    "def Forward_algo():\n",
    "    \n",
    "    Z_ih = np.zeros((Input_data.shape[0],hidden_nodes))\n",
    "    \n",
    "    counter=0\n",
    "    col=0\n",
    "    for X_train in Input_data :\n",
    "        print(X_train)\n",
    "        for i in Weight_ih.T:\n",
    "            print(i)\n",
    "            Z_ih[counter,col] = np.dot(X_train,i)\n",
    "            col+=1\n",
    "            print(Z_ih)\n",
    "            print(\"--------------------------\")\n",
    "        col=0\n",
    "        counter+=1\n",
    "        \n",
    "    "
   ]
  },
  {
   "cell_type": "code",
   "execution_count": 83,
   "id": "c845a6bd",
   "metadata": {},
   "outputs": [
    {
     "name": "stdout",
     "output_type": "stream",
     "text": [
      "[0 8 6 0]\n",
      "[-0.22 -0.29 -0.08  0.74]\n",
      "[[-2.8  0.   0. ]\n",
      " [ 0.   0.   0. ]\n",
      " [ 0.   0.   0. ]\n",
      " [ 0.   0.   0. ]\n",
      " [ 0.   0.   0. ]]\n",
      "--------------------------\n",
      "[-0.17 -0.03  0.56 -0.99]\n",
      "[[-2.8   3.12  0.  ]\n",
      " [ 0.    0.    0.  ]\n",
      " [ 0.    0.    0.  ]\n",
      " [ 0.    0.    0.  ]\n",
      " [ 0.    0.    0.  ]]\n",
      "--------------------------\n",
      "[-0.42 -0.93  0.5   0.76]\n",
      "[[-2.8   3.12 -4.44]\n",
      " [ 0.    0.    0.  ]\n",
      " [ 0.    0.    0.  ]\n",
      " [ 0.    0.    0.  ]\n",
      " [ 0.    0.    0.  ]]\n",
      "--------------------------\n",
      "[7 0 1 1]\n",
      "[-0.22 -0.29 -0.08  0.74]\n",
      "[[-2.8   3.12 -4.44]\n",
      " [-0.88  0.    0.  ]\n",
      " [ 0.    0.    0.  ]\n",
      " [ 0.    0.    0.  ]\n",
      " [ 0.    0.    0.  ]]\n",
      "--------------------------\n",
      "[-0.17 -0.03  0.56 -0.99]\n",
      "[[-2.8   3.12 -4.44]\n",
      " [-0.88 -1.62  0.  ]\n",
      " [ 0.    0.    0.  ]\n",
      " [ 0.    0.    0.  ]\n",
      " [ 0.    0.    0.  ]]\n",
      "--------------------------\n",
      "[-0.42 -0.93  0.5   0.76]\n",
      "[[-2.8   3.12 -4.44]\n",
      " [-0.88 -1.62 -1.68]\n",
      " [ 0.    0.    0.  ]\n",
      " [ 0.    0.    0.  ]\n",
      " [ 0.    0.    0.  ]]\n",
      "--------------------------\n",
      "[1 2 4 9]\n",
      "[-0.22 -0.29 -0.08  0.74]\n",
      "[[-2.8   3.12 -4.44]\n",
      " [-0.88 -1.62 -1.68]\n",
      " [ 5.54  0.    0.  ]\n",
      " [ 0.    0.    0.  ]\n",
      " [ 0.    0.    0.  ]]\n",
      "--------------------------\n",
      "[-0.17 -0.03  0.56 -0.99]\n",
      "[[-2.8   3.12 -4.44]\n",
      " [-0.88 -1.62 -1.68]\n",
      " [ 5.54 -6.9   0.  ]\n",
      " [ 0.    0.    0.  ]\n",
      " [ 0.    0.    0.  ]]\n",
      "--------------------------\n",
      "[-0.42 -0.93  0.5   0.76]\n",
      "[[-2.8   3.12 -4.44]\n",
      " [-0.88 -1.62 -1.68]\n",
      " [ 5.54 -6.9   6.56]\n",
      " [ 0.    0.    0.  ]\n",
      " [ 0.    0.    0.  ]]\n",
      "--------------------------\n",
      "[9 3 7 7]\n",
      "[-0.22 -0.29 -0.08  0.74]\n",
      "[[-2.8   3.12 -4.44]\n",
      " [-0.88 -1.62 -1.68]\n",
      " [ 5.54 -6.9   6.56]\n",
      " [ 1.77  0.    0.  ]\n",
      " [ 0.    0.    0.  ]]\n",
      "--------------------------\n",
      "[-0.17 -0.03  0.56 -0.99]\n",
      "[[-2.8   3.12 -4.44]\n",
      " [-0.88 -1.62 -1.68]\n",
      " [ 5.54 -6.9   6.56]\n",
      " [ 1.77 -4.63  0.  ]\n",
      " [ 0.    0.    0.  ]]\n",
      "--------------------------\n",
      "[-0.42 -0.93  0.5   0.76]\n",
      "[[-2.8   3.12 -4.44]\n",
      " [-0.88 -1.62 -1.68]\n",
      " [ 5.54 -6.9   6.56]\n",
      " [ 1.77 -4.63  2.25]\n",
      " [ 0.    0.    0.  ]]\n",
      "--------------------------\n",
      "[7 1 8 2]\n",
      "[-0.22 -0.29 -0.08  0.74]\n",
      "[[-2.8   3.12 -4.44]\n",
      " [-0.88 -1.62 -1.68]\n",
      " [ 5.54 -6.9   6.56]\n",
      " [ 1.77 -4.63  2.25]\n",
      " [-0.99  0.    0.  ]]\n",
      "--------------------------\n",
      "[-0.17 -0.03  0.56 -0.99]\n",
      "[[-2.8   3.12 -4.44]\n",
      " [-0.88 -1.62 -1.68]\n",
      " [ 5.54 -6.9   6.56]\n",
      " [ 1.77 -4.63  2.25]\n",
      " [-0.99  1.28  0.  ]]\n",
      "--------------------------\n",
      "[-0.42 -0.93  0.5   0.76]\n",
      "[[-2.8   3.12 -4.44]\n",
      " [-0.88 -1.62 -1.68]\n",
      " [ 5.54 -6.9   6.56]\n",
      " [ 1.77 -4.63  2.25]\n",
      " [-0.99  1.28  1.65]]\n",
      "--------------------------\n"
     ]
    }
   ],
   "source": [
    "Forward_algo()"
   ]
  },
  {
   "cell_type": "code",
   "execution_count": null,
   "id": "9a1c0f33",
   "metadata": {},
   "outputs": [],
   "source": []
  }
 ],
 "metadata": {
  "kernelspec": {
   "display_name": "Python 3 (ipykernel)",
   "language": "python",
   "name": "python3"
  },
  "language_info": {
   "codemirror_mode": {
    "name": "ipython",
    "version": 3
   },
   "file_extension": ".py",
   "mimetype": "text/x-python",
   "name": "python",
   "nbconvert_exporter": "python",
   "pygments_lexer": "ipython3",
   "version": "3.11.5"
  }
 },
 "nbformat": 4,
 "nbformat_minor": 5
}
